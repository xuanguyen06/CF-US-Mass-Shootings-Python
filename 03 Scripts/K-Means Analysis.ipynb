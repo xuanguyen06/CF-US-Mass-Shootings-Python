{
 "cells": [
  {
   "cell_type": "markdown",
   "id": "0e4df969",
   "metadata": {},
   "source": [
    "# K-Means Analysis"
   ]
  },
  {
   "cell_type": "markdown",
   "id": "78a38b2b",
   "metadata": {},
   "source": [
    "## This script contains the following points:\n",
    "### 1. Importing Libraries and Dataset\n",
    "### 2. The Elbow Technique\n",
    "### 3. K-Means Clustering\n",
    "### 4. Conclusion"
   ]
  },
  {
   "cell_type": "markdown",
   "id": "a46d24b4",
   "metadata": {},
   "source": [
    "## 1. Importing Libraries and Dataset"
   ]
  },
  {
   "cell_type": "code",
   "execution_count": 1,
   "id": "8be1d0ab",
   "metadata": {},
   "outputs": [],
   "source": [
    "# Import libraries\n",
    "import pandas as pd\n",
    "import numpy as np\n",
    "import seaborn as sns\n",
    "import matplotlib\n",
    "import matplotlib.pyplot as plt\n",
    "import os\n",
    "import sklearn\n",
    "from sklearn.cluster import KMeans\n",
    "import pylab as pl"
   ]
  },
  {
   "cell_type": "code",
   "execution_count": 2,
   "id": "def7b7db",
   "metadata": {},
   "outputs": [],
   "source": [
    "# Graphs are displayed w/o calling\n",
    "%matplotlib inline"
   ]
  },
  {
   "cell_type": "code",
   "execution_count": 3,
   "id": "6925edf8",
   "metadata": {},
   "outputs": [],
   "source": [
    "# Import data\n",
    "# Import data\n",
    "path = r'C:\\Users\\nguye\\OneDrive\\05-2023 US Mass Shooting Data Analysis'\n",
    "df = pd.read_csv(os.path.join(path, '02 Data', 'Prepared Data', 'Mass_Shootings_GA.csv'))"
   ]
  },
  {
   "cell_type": "code",
   "execution_count": 4,
   "id": "d551bbee",
   "metadata": {},
   "outputs": [
    {
     "data": {
      "text/plain": [
       "(4232, 13)"
      ]
     },
     "execution_count": 4,
     "metadata": {},
     "output_type": "execute_result"
    }
   ],
   "source": [
    "df.shape"
   ]
  },
  {
   "cell_type": "code",
   "execution_count": 5,
   "id": "2f637023",
   "metadata": {},
   "outputs": [
    {
     "data": {
      "text/html": [
       "<div>\n",
       "<style scoped>\n",
       "    .dataframe tbody tr th:only-of-type {\n",
       "        vertical-align: middle;\n",
       "    }\n",
       "\n",
       "    .dataframe tbody tr th {\n",
       "        vertical-align: top;\n",
       "    }\n",
       "\n",
       "    .dataframe thead th {\n",
       "        text-align: right;\n",
       "    }\n",
       "</style>\n",
       "<table border=\"1\" class=\"dataframe\">\n",
       "  <thead>\n",
       "    <tr style=\"text-align: right;\">\n",
       "      <th></th>\n",
       "      <th>Unnamed: 0</th>\n",
       "      <th>Incident ID</th>\n",
       "      <th>Incident Date</th>\n",
       "      <th>State</th>\n",
       "      <th>City Or County</th>\n",
       "      <th>Victims Injured</th>\n",
       "      <th>Victims Killed</th>\n",
       "      <th>Total Victims</th>\n",
       "      <th>Suspects Injured</th>\n",
       "      <th>Suspects Killed</th>\n",
       "      <th>Suspects Arrested</th>\n",
       "      <th>Total Suspects</th>\n",
       "      <th>Suspect Category</th>\n",
       "    </tr>\n",
       "  </thead>\n",
       "  <tbody>\n",
       "    <tr>\n",
       "      <th>0</th>\n",
       "      <td>0</td>\n",
       "      <td>2589765</td>\n",
       "      <td>May 6, 2023</td>\n",
       "      <td>Ohio</td>\n",
       "      <td>Columbus</td>\n",
       "      <td>3</td>\n",
       "      <td>1</td>\n",
       "      <td>4</td>\n",
       "      <td>1</td>\n",
       "      <td>0</td>\n",
       "      <td>0</td>\n",
       "      <td>1</td>\n",
       "      <td>Single suspect</td>\n",
       "    </tr>\n",
       "    <tr>\n",
       "      <th>1</th>\n",
       "      <td>1</td>\n",
       "      <td>2589804</td>\n",
       "      <td>May 5, 2023</td>\n",
       "      <td>Mississippi</td>\n",
       "      <td>Natchez</td>\n",
       "      <td>2</td>\n",
       "      <td>2</td>\n",
       "      <td>4</td>\n",
       "      <td>0</td>\n",
       "      <td>0</td>\n",
       "      <td>0</td>\n",
       "      <td>0</td>\n",
       "      <td>No suspects</td>\n",
       "    </tr>\n",
       "    <tr>\n",
       "      <th>2</th>\n",
       "      <td>2</td>\n",
       "      <td>2589790</td>\n",
       "      <td>May 5, 2023</td>\n",
       "      <td>Mississippi</td>\n",
       "      <td>Vicksburg</td>\n",
       "      <td>4</td>\n",
       "      <td>0</td>\n",
       "      <td>4</td>\n",
       "      <td>0</td>\n",
       "      <td>0</td>\n",
       "      <td>0</td>\n",
       "      <td>0</td>\n",
       "      <td>No suspects</td>\n",
       "    </tr>\n",
       "    <tr>\n",
       "      <th>3</th>\n",
       "      <td>3</td>\n",
       "      <td>2589699</td>\n",
       "      <td>May 5, 2023</td>\n",
       "      <td>Mississippi</td>\n",
       "      <td>Ocean Springs</td>\n",
       "      <td>5</td>\n",
       "      <td>1</td>\n",
       "      <td>6</td>\n",
       "      <td>0</td>\n",
       "      <td>0</td>\n",
       "      <td>0</td>\n",
       "      <td>0</td>\n",
       "      <td>No suspects</td>\n",
       "    </tr>\n",
       "    <tr>\n",
       "      <th>4</th>\n",
       "      <td>4</td>\n",
       "      <td>2587918</td>\n",
       "      <td>May 3, 2023</td>\n",
       "      <td>Illinois</td>\n",
       "      <td>Chicago</td>\n",
       "      <td>4</td>\n",
       "      <td>0</td>\n",
       "      <td>4</td>\n",
       "      <td>0</td>\n",
       "      <td>0</td>\n",
       "      <td>0</td>\n",
       "      <td>0</td>\n",
       "      <td>No suspects</td>\n",
       "    </tr>\n",
       "  </tbody>\n",
       "</table>\n",
       "</div>"
      ],
      "text/plain": [
       "   Unnamed: 0  Incident ID Incident Date        State City Or County  \\\n",
       "0           0      2589765   May 6, 2023         Ohio       Columbus   \n",
       "1           1      2589804   May 5, 2023  Mississippi        Natchez   \n",
       "2           2      2589790   May 5, 2023  Mississippi      Vicksburg   \n",
       "3           3      2589699   May 5, 2023  Mississippi  Ocean Springs   \n",
       "4           4      2587918   May 3, 2023     Illinois        Chicago   \n",
       "\n",
       "   Victims Injured  Victims Killed  Total Victims  Suspects Injured  \\\n",
       "0                3               1              4                 1   \n",
       "1                2               2              4                 0   \n",
       "2                4               0              4                 0   \n",
       "3                5               1              6                 0   \n",
       "4                4               0              4                 0   \n",
       "\n",
       "   Suspects Killed  Suspects Arrested  Total Suspects Suspect Category  \n",
       "0                0                  0               1   Single suspect  \n",
       "1                0                  0               0      No suspects  \n",
       "2                0                  0               0      No suspects  \n",
       "3                0                  0               0      No suspects  \n",
       "4                0                  0               0      No suspects  "
      ]
     },
     "execution_count": 5,
     "metadata": {},
     "output_type": "execute_result"
    }
   ],
   "source": [
    "df.head()"
   ]
  },
  {
   "cell_type": "code",
   "execution_count": 6,
   "id": "06ce4faf",
   "metadata": {},
   "outputs": [],
   "source": [
    "# Remove \"Unnamed: 0\" column\n",
    "df = df.drop(columns = {'Unnamed: 0'})"
   ]
  },
  {
   "cell_type": "code",
   "execution_count": 7,
   "id": "6013809d",
   "metadata": {},
   "outputs": [
    {
     "data": {
      "text/plain": [
       "Index(['Incident ID', 'Incident Date', 'State', 'City Or County',\n",
       "       'Victims Injured', 'Victims Killed', 'Total Victims',\n",
       "       'Suspects Injured', 'Suspects Killed', 'Suspects Arrested',\n",
       "       'Total Suspects', 'Suspect Category'],\n",
       "      dtype='object')"
      ]
     },
     "execution_count": 7,
     "metadata": {},
     "output_type": "execute_result"
    }
   ],
   "source": [
    "df.columns"
   ]
  },
  {
   "cell_type": "code",
   "execution_count": 8,
   "id": "68c0c67d",
   "metadata": {},
   "outputs": [],
   "source": [
    "# Remove categorical columns and place in new dataframe\n",
    "df_2 = df.drop(columns = {'Incident Date', 'State', 'City Or County', 'Suspect Category'})"
   ]
  },
  {
   "cell_type": "markdown",
   "id": "28df0772",
   "metadata": {},
   "source": [
    "## 2. The Elbow Technique"
   ]
  },
  {
   "cell_type": "code",
   "execution_count": 9,
   "id": "f94f4fad",
   "metadata": {},
   "outputs": [],
   "source": [
    "# Define the range and k-means cluster\n",
    "num = range(1, 5)\n",
    "kmeans = [KMeans(n_clusters = i) for i in num]"
   ]
  },
  {
   "cell_type": "code",
   "execution_count": 10,
   "id": "73ab6620",
   "metadata": {},
   "outputs": [
    {
     "data": {
      "text/plain": [
       "[-2334292186456853.0,\n",
       " -519426262120213.9,\n",
       " -235275109359485.8,\n",
       " -133258641470040.84]"
      ]
     },
     "execution_count": 10,
     "metadata": {},
     "output_type": "execute_result"
    }
   ],
   "source": [
    "# Create the cluster score\n",
    "score = [kmeans[i].fit(df_2).score(df_2) for i in range(len(kmeans))]\n",
    "score"
   ]
  },
  {
   "cell_type": "code",
   "execution_count": 11,
   "id": "20785910",
   "metadata": {},
   "outputs": [
    {
     "data": {
      "image/png": "[encoded data removed]",
      "text/plain": [
       "<Figure size 640x480 with 1 Axes>"
      ]
     },
     "metadata": {},
     "output_type": "display_data"
    }
   ],
   "source": [
    "# Plot elbow curve\n",
    "pl.plot(num, score)\n",
    "pl.xlabel('Number of Clusters')\n",
    "pl.ylabel('Score')\n",
    "pl.title('Elbow Curve')\n",
    "pl.show()"
   ]
  },
  {
   "cell_type": "markdown",
   "id": "ff375e32",
   "metadata": {},
   "source": [
    "#### The elbow curve show a jump between 1 and 2 then the curve straightens out. Therefore, the optimal count for the clusters is two. "
   ]
  },
  {
   "cell_type": "markdown",
   "id": "98d31fc8",
   "metadata": {},
   "source": [
    "## 3. K-Means Clustering"
   ]
  },
  {
   "cell_type": "code",
   "execution_count": 12,
   "id": "f9fd93fb",
   "metadata": {},
   "outputs": [],
   "source": [
    "# Create k-means object\n",
    "kmeans = KMeans(n_clusters = 2)"
   ]
  },
  {
   "cell_type": "code",
   "execution_count": 13,
   "id": "71cb6dea",
   "metadata": {},
   "outputs": [
    {
     "data": {
      "text/plain": [
       "KMeans(n_clusters=2)"
      ]
     },
     "execution_count": 13,
     "metadata": {},
     "output_type": "execute_result"
    }
   ],
   "source": [
    "# Fit the k-means object to the data\n",
    "kmeans.fit(df_2)"
   ]
  },
  {
   "cell_type": "code",
   "execution_count": 14,
   "id": "d4933069",
   "metadata": {},
   "outputs": [],
   "source": [
    "# Add the values of clusters to dataframe\n",
    "df_2['Clusters'] = kmeans.fit_predict(df_2)"
   ]
  },
  {
   "cell_type": "code",
   "execution_count": 15,
   "id": "0cbd6411",
   "metadata": {},
   "outputs": [
    {
     "data": {
      "text/html": [
       "<div>\n",
       "<style scoped>\n",
       "    .dataframe tbody tr th:only-of-type {\n",
       "        vertical-align: middle;\n",
       "    }\n",
       "\n",
       "    .dataframe tbody tr th {\n",
       "        vertical-align: top;\n",
       "    }\n",
       "\n",
       "    .dataframe thead th {\n",
       "        text-align: right;\n",
       "    }\n",
       "</style>\n",
       "<table border=\"1\" class=\"dataframe\">\n",
       "  <thead>\n",
       "    <tr style=\"text-align: right;\">\n",
       "      <th></th>\n",
       "      <th>Incident ID</th>\n",
       "      <th>Victims Injured</th>\n",
       "      <th>Victims Killed</th>\n",
       "      <th>Total Victims</th>\n",
       "      <th>Suspects Injured</th>\n",
       "      <th>Suspects Killed</th>\n",
       "      <th>Suspects Arrested</th>\n",
       "      <th>Total Suspects</th>\n",
       "      <th>Clusters</th>\n",
       "    </tr>\n",
       "  </thead>\n",
       "  <tbody>\n",
       "    <tr>\n",
       "      <th>0</th>\n",
       "      <td>2589765</td>\n",
       "      <td>3</td>\n",
       "      <td>1</td>\n",
       "      <td>4</td>\n",
       "      <td>1</td>\n",
       "      <td>0</td>\n",
       "      <td>0</td>\n",
       "      <td>1</td>\n",
       "      <td>1</td>\n",
       "    </tr>\n",
       "    <tr>\n",
       "      <th>1</th>\n",
       "      <td>2589804</td>\n",
       "      <td>2</td>\n",
       "      <td>2</td>\n",
       "      <td>4</td>\n",
       "      <td>0</td>\n",
       "      <td>0</td>\n",
       "      <td>0</td>\n",
       "      <td>0</td>\n",
       "      <td>1</td>\n",
       "    </tr>\n",
       "    <tr>\n",
       "      <th>2</th>\n",
       "      <td>2589790</td>\n",
       "      <td>4</td>\n",
       "      <td>0</td>\n",
       "      <td>4</td>\n",
       "      <td>0</td>\n",
       "      <td>0</td>\n",
       "      <td>0</td>\n",
       "      <td>0</td>\n",
       "      <td>1</td>\n",
       "    </tr>\n",
       "    <tr>\n",
       "      <th>3</th>\n",
       "      <td>2589699</td>\n",
       "      <td>5</td>\n",
       "      <td>1</td>\n",
       "      <td>6</td>\n",
       "      <td>0</td>\n",
       "      <td>0</td>\n",
       "      <td>0</td>\n",
       "      <td>0</td>\n",
       "      <td>1</td>\n",
       "    </tr>\n",
       "    <tr>\n",
       "      <th>4</th>\n",
       "      <td>2587918</td>\n",
       "      <td>4</td>\n",
       "      <td>0</td>\n",
       "      <td>4</td>\n",
       "      <td>0</td>\n",
       "      <td>0</td>\n",
       "      <td>0</td>\n",
       "      <td>0</td>\n",
       "      <td>1</td>\n",
       "    </tr>\n",
       "  </tbody>\n",
       "</table>\n",
       "</div>"
      ],
      "text/plain": [
       "   Incident ID  Victims Injured  Victims Killed  Total Victims  \\\n",
       "0      2589765                3               1              4   \n",
       "1      2589804                2               2              4   \n",
       "2      2589790                4               0              4   \n",
       "3      2589699                5               1              6   \n",
       "4      2587918                4               0              4   \n",
       "\n",
       "   Suspects Injured  Suspects Killed  Suspects Arrested  Total Suspects  \\\n",
       "0                 1                0                  0               1   \n",
       "1                 0                0                  0               0   \n",
       "2                 0                0                  0               0   \n",
       "3                 0                0                  0               0   \n",
       "4                 0                0                  0               0   \n",
       "\n",
       "   Clusters  \n",
       "0         1  \n",
       "1         1  \n",
       "2         1  \n",
       "3         1  \n",
       "4         1  "
      ]
     },
     "execution_count": 15,
     "metadata": {},
     "output_type": "execute_result"
    }
   ],
   "source": [
    "df_2.head()"
   ]
  },
  {
   "cell_type": "code",
   "execution_count": 16,
   "id": "875d6198",
   "metadata": {},
   "outputs": [
    {
     "data": {
      "text/plain": [
       "1    2510\n",
       "0    1722\n",
       "Name: Clusters, dtype: int64"
      ]
     },
     "execution_count": 16,
     "metadata": {},
     "output_type": "execute_result"
    }
   ],
   "source": [
    "df_2['Clusters'].value_counts(dropna = False)"
   ]
  },
  {
   "cell_type": "code",
   "execution_count": 17,
   "id": "e310583b",
   "metadata": {},
   "outputs": [
    {
     "data": {
      "image/png": "[encoded data removed]",
      "text/plain": [
       "<Figure size 800x500 with 1 Axes>"
      ]
     },
     "metadata": {},
     "output_type": "display_data"
    }
   ],
   "source": [
    "# Plot the clusters for 'Victims Injured' and 'Total Victims'\n",
    "plt.figure(figsize = (8, 5))\n",
    "ax = sns.scatterplot(x = df_2['Victims Injured'], y = df['Total Victims'], hue = kmeans.labels_, s = 100)\n",
    "\n",
    "ax.grid(False)\n",
    "plt.xlabel('Victims Injured')\n",
    "plt.ylabel('Total Victims')\n",
    "plt.show()"
   ]
  },
  {
   "cell_type": "code",
   "execution_count": 18,
   "id": "ff6ffdf8",
   "metadata": {
    "scrolled": false
   },
   "outputs": [
    {
     "data": {
      "image/png": "[encoded data removed]",
      "text/plain": [
       "<Figure size 800x500 with 1 Axes>"
      ]
     },
     "metadata": {},
     "output_type": "display_data"
    }
   ],
   "source": [
    "# Plot the clusters for 'Victims Killed' and 'Total Victims'\n",
    "plt.figure(figsize = (8, 5))\n",
    "ax = sns.scatterplot(x = df_2['Victims Killed'], y = df['Total Victims'], hue = kmeans.labels_, s = 100)\n",
    "\n",
    "ax.grid(False)\n",
    "plt.xlabel('Victims Killed')\n",
    "plt.ylabel('Total Victims')\n",
    "plt.show()"
   ]
  },
  {
   "cell_type": "markdown",
   "id": "91be8de4",
   "metadata": {},
   "source": [
    "### Cluster Interpretation\n",
    "\n",
    "Here the clusters do not make sense, namely because there isn't a large variation between the numbers of victims. "
   ]
  },
  {
   "cell_type": "code",
   "execution_count": 19,
   "id": "268a7a98",
   "metadata": {},
   "outputs": [],
   "source": [
    "# Rename 'Clusters' columns by their respective colors\n",
    "df_2.loc[df_2['Clusters'] == 0, 'Clusters'] = 'Blue'\n",
    "df_2.loc[df_2['Clusters'] == 1, 'Clusters'] = 'Orange'"
   ]
  },
  {
   "cell_type": "code",
   "execution_count": 21,
   "id": "d11d7326",
   "metadata": {},
   "outputs": [
    {
     "data": {
      "text/html": [
       "<div>\n",
       "<style scoped>\n",
       "    .dataframe tbody tr th:only-of-type {\n",
       "        vertical-align: middle;\n",
       "    }\n",
       "\n",
       "    .dataframe tbody tr th {\n",
       "        vertical-align: top;\n",
       "    }\n",
       "\n",
       "    .dataframe thead tr th {\n",
       "        text-align: left;\n",
       "    }\n",
       "\n",
       "    .dataframe thead tr:last-of-type th {\n",
       "        text-align: right;\n",
       "    }\n",
       "</style>\n",
       "<table border=\"1\" class=\"dataframe\">\n",
       "  <thead>\n",
       "    <tr>\n",
       "      <th></th>\n",
       "      <th colspan=\"2\" halign=\"left\">Victims Injured</th>\n",
       "      <th colspan=\"2\" halign=\"left\">Victims Killed</th>\n",
       "      <th colspan=\"2\" halign=\"left\">Total Victims</th>\n",
       "    </tr>\n",
       "    <tr>\n",
       "      <th></th>\n",
       "      <th>mean</th>\n",
       "      <th>median</th>\n",
       "      <th>mean</th>\n",
       "      <th>median</th>\n",
       "      <th>mean</th>\n",
       "      <th>median</th>\n",
       "    </tr>\n",
       "    <tr>\n",
       "      <th>Clusters</th>\n",
       "      <th></th>\n",
       "      <th></th>\n",
       "      <th></th>\n",
       "      <th></th>\n",
       "      <th></th>\n",
       "      <th></th>\n",
       "    </tr>\n",
       "  </thead>\n",
       "  <tbody>\n",
       "    <tr>\n",
       "      <th>Blue</th>\n",
       "      <td>4.166086</td>\n",
       "      <td>4.0</td>\n",
       "      <td>1.08072</td>\n",
       "      <td>1.0</td>\n",
       "      <td>5.246806</td>\n",
       "      <td>4.0</td>\n",
       "    </tr>\n",
       "    <tr>\n",
       "      <th>Orange</th>\n",
       "      <td>4.094422</td>\n",
       "      <td>4.0</td>\n",
       "      <td>0.96494</td>\n",
       "      <td>1.0</td>\n",
       "      <td>5.059363</td>\n",
       "      <td>4.0</td>\n",
       "    </tr>\n",
       "  </tbody>\n",
       "</table>\n",
       "</div>"
      ],
      "text/plain": [
       "         Victims Injured        Victims Killed        Total Victims       \n",
       "                    mean median           mean median          mean median\n",
       "Clusters                                                                  \n",
       "Blue            4.166086    4.0        1.08072    1.0      5.246806    4.0\n",
       "Orange          4.094422    4.0        0.96494    1.0      5.059363    4.0"
      ]
     },
     "execution_count": 21,
     "metadata": {},
     "output_type": "execute_result"
    }
   ],
   "source": [
    "# Check descriptive statistics\n",
    "df_2.groupby('Clusters').agg({'Victims Injured': ['mean', 'median'],\n",
    "                            'Victims Killed': ['mean', 'median'],\n",
    "                            'Total Victims': ['mean', 'median']})"
   ]
  },
  {
   "cell_type": "markdown",
   "id": "2e357fad",
   "metadata": {},
   "source": [
    "### Descriptive Statistics Interpretation\n",
    "The descriptive statistics show that the values of the different clusters are similar to each other, therefore showing that there is not a high number of variations between the variables. "
   ]
  },
  {
   "cell_type": "markdown",
   "id": "c05ff7b1",
   "metadata": {},
   "source": [
    "## 4. Conclusion\n",
    "Because of the limited number of columns in my dataset, this analysis does not provide any meaningful insights to the analysis. There is no pattern or insights to be gleaned from the dataset. I purposely left out the data for the suspects, as the amounts aren't varied enough for further analysis. "
   ]
  },
  {
   "cell_type": "code",
   "execution_count": null,
   "id": "92cafec5",
   "metadata": {},
   "outputs": [],
   "source": []
  }
 ],
 "metadata": {
  "kernelspec": {
   "display_name": "Python 3 (ipykernel)",
   "language": "python",
   "name": "python3"
  },
  "language_info": {
   "codemirror_mode": {
    "name": "ipython",
    "version": 3
   },
   "file_extension": ".py",
   "mimetype": "text/x-python",
   "name": "python",
   "nbconvert_exporter": "python",
   "pygments_lexer": "ipython3",
   "version": "3.9.13"
  }
 },
 "nbformat": 4,
 "nbformat_minor": 5
}
