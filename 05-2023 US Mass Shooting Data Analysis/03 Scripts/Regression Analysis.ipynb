{
 "cells": [
  {
   "cell_type": "markdown",
   "id": "b4d8eb44",
   "metadata": {},
   "source": [
    "# Regression Analysis"
   ]
  },
  {
   "cell_type": "markdown",
   "id": "27cb301b",
   "metadata": {},
   "source": [
    "## This script contains the following points: \n",
    "### 1. Importing Libraries and Dataset\n",
    "### 2. Data Cleaning\n",
    "### 3. Data Prepping\n",
    "### 4. Regression Analysis\n",
    "### 5. Conclusion"
   ]
  },
  {
   "cell_type": "markdown",
   "id": "0fdecd1e",
   "metadata": {},
   "source": [
    "## 1. Importing Libraries and Dataset"
   ]
  },
  {
   "cell_type": "code",
   "execution_count": 1,
   "id": "76fc3e11",
   "metadata": {},
   "outputs": [],
   "source": [
    "# Import libaries\n",
    "import pandas as pd\n",
    "import numpy as np\n",
    "import seaborn as sns\n",
    "import matplotlib\n",
    "import matplotlib.pyplot as plt\n",
    "import os\n",
    "import sklearn\n",
    "from sklearn.model_selection import train_test_split\n",
    "from sklearn.linear_model import LinearRegression\n",
    "from sklearn.metrics import mean_squared_error, r2_score"
   ]
  },
  {
   "cell_type": "code",
   "execution_count": 2,
   "id": "ca82074c",
   "metadata": {},
   "outputs": [],
   "source": [
    "# Graphs display without calling\n",
    "%matplotlib inline"
   ]
  },
  {
   "cell_type": "code",
   "execution_count": 3,
   "id": "25dbdf2b",
   "metadata": {},
   "outputs": [],
   "source": [
    "# Import data\n",
    "path = r'C:\\Users\\nguye\\OneDrive\\05-2023 US Mass Shooting Data Analysis'\n",
    "df = pd.read_csv(os.path.join(path, '02 Data', 'Prepared Data', 'Mass_Shootings_GA.csv'))"
   ]
  },
  {
   "cell_type": "markdown",
   "id": "0533dc1f",
   "metadata": {},
   "source": [
    "## 2. Data Cleaning"
   ]
  },
  {
   "cell_type": "code",
   "execution_count": 4,
   "id": "0d468ba2",
   "metadata": {},
   "outputs": [
    {
     "data": {
      "text/plain": [
       "Index(['Unnamed: 0', 'Incident ID', 'Incident Date', 'State', 'City Or County',\n",
       "       'Victims Injured', 'Victims Killed', 'Total Victims',\n",
       "       'Suspects Injured', 'Suspects Killed', 'Suspects Arrested',\n",
       "       'Total Suspects', 'Suspect Category'],\n",
       "      dtype='object')"
      ]
     },
     "execution_count": 4,
     "metadata": {},
     "output_type": "execute_result"
    }
   ],
   "source": [
    "df.columns"
   ]
  },
  {
   "cell_type": "code",
   "execution_count": 5,
   "id": "53e98635",
   "metadata": {},
   "outputs": [
    {
     "data": {
      "text/html": [
       "<div>\n",
       "<style scoped>\n",
       "    .dataframe tbody tr th:only-of-type {\n",
       "        vertical-align: middle;\n",
       "    }\n",
       "\n",
       "    .dataframe tbody tr th {\n",
       "        vertical-align: top;\n",
       "    }\n",
       "\n",
       "    .dataframe thead th {\n",
       "        text-align: right;\n",
       "    }\n",
       "</style>\n",
       "<table border=\"1\" class=\"dataframe\">\n",
       "  <thead>\n",
       "    <tr style=\"text-align: right;\">\n",
       "      <th></th>\n",
       "      <th>Unnamed: 0</th>\n",
       "      <th>Incident ID</th>\n",
       "      <th>Incident Date</th>\n",
       "      <th>State</th>\n",
       "      <th>City Or County</th>\n",
       "      <th>Victims Injured</th>\n",
       "      <th>Victims Killed</th>\n",
       "      <th>Total Victims</th>\n",
       "      <th>Suspects Injured</th>\n",
       "      <th>Suspects Killed</th>\n",
       "      <th>Suspects Arrested</th>\n",
       "      <th>Total Suspects</th>\n",
       "      <th>Suspect Category</th>\n",
       "    </tr>\n",
       "  </thead>\n",
       "  <tbody>\n",
       "    <tr>\n",
       "      <th>0</th>\n",
       "      <td>0</td>\n",
       "      <td>2589765</td>\n",
       "      <td>May 6, 2023</td>\n",
       "      <td>Ohio</td>\n",
       "      <td>Columbus</td>\n",
       "      <td>3</td>\n",
       "      <td>1</td>\n",
       "      <td>4</td>\n",
       "      <td>1</td>\n",
       "      <td>0</td>\n",
       "      <td>0</td>\n",
       "      <td>1</td>\n",
       "      <td>Single suspect</td>\n",
       "    </tr>\n",
       "    <tr>\n",
       "      <th>1</th>\n",
       "      <td>1</td>\n",
       "      <td>2589804</td>\n",
       "      <td>May 5, 2023</td>\n",
       "      <td>Mississippi</td>\n",
       "      <td>Natchez</td>\n",
       "      <td>2</td>\n",
       "      <td>2</td>\n",
       "      <td>4</td>\n",
       "      <td>0</td>\n",
       "      <td>0</td>\n",
       "      <td>0</td>\n",
       "      <td>0</td>\n",
       "      <td>No suspects</td>\n",
       "    </tr>\n",
       "    <tr>\n",
       "      <th>2</th>\n",
       "      <td>2</td>\n",
       "      <td>2589790</td>\n",
       "      <td>May 5, 2023</td>\n",
       "      <td>Mississippi</td>\n",
       "      <td>Vicksburg</td>\n",
       "      <td>4</td>\n",
       "      <td>0</td>\n",
       "      <td>4</td>\n",
       "      <td>0</td>\n",
       "      <td>0</td>\n",
       "      <td>0</td>\n",
       "      <td>0</td>\n",
       "      <td>No suspects</td>\n",
       "    </tr>\n",
       "    <tr>\n",
       "      <th>3</th>\n",
       "      <td>3</td>\n",
       "      <td>2589699</td>\n",
       "      <td>May 5, 2023</td>\n",
       "      <td>Mississippi</td>\n",
       "      <td>Ocean Springs</td>\n",
       "      <td>5</td>\n",
       "      <td>1</td>\n",
       "      <td>6</td>\n",
       "      <td>0</td>\n",
       "      <td>0</td>\n",
       "      <td>0</td>\n",
       "      <td>0</td>\n",
       "      <td>No suspects</td>\n",
       "    </tr>\n",
       "    <tr>\n",
       "      <th>4</th>\n",
       "      <td>4</td>\n",
       "      <td>2587918</td>\n",
       "      <td>May 3, 2023</td>\n",
       "      <td>Illinois</td>\n",
       "      <td>Chicago</td>\n",
       "      <td>4</td>\n",
       "      <td>0</td>\n",
       "      <td>4</td>\n",
       "      <td>0</td>\n",
       "      <td>0</td>\n",
       "      <td>0</td>\n",
       "      <td>0</td>\n",
       "      <td>No suspects</td>\n",
       "    </tr>\n",
       "  </tbody>\n",
       "</table>\n",
       "</div>"
      ],
      "text/plain": [
       "   Unnamed: 0  Incident ID Incident Date        State City Or County  \\\n",
       "0           0      2589765   May 6, 2023         Ohio       Columbus   \n",
       "1           1      2589804   May 5, 2023  Mississippi        Natchez   \n",
       "2           2      2589790   May 5, 2023  Mississippi      Vicksburg   \n",
       "3           3      2589699   May 5, 2023  Mississippi  Ocean Springs   \n",
       "4           4      2587918   May 3, 2023     Illinois        Chicago   \n",
       "\n",
       "   Victims Injured  Victims Killed  Total Victims  Suspects Injured  \\\n",
       "0                3               1              4                 1   \n",
       "1                2               2              4                 0   \n",
       "2                4               0              4                 0   \n",
       "3                5               1              6                 0   \n",
       "4                4               0              4                 0   \n",
       "\n",
       "   Suspects Killed  Suspects Arrested  Total Suspects Suspect Category  \n",
       "0                0                  0               1   Single suspect  \n",
       "1                0                  0               0      No suspects  \n",
       "2                0                  0               0      No suspects  \n",
       "3                0                  0               0      No suspects  \n",
       "4                0                  0               0      No suspects  "
      ]
     },
     "execution_count": 5,
     "metadata": {},
     "output_type": "execute_result"
    }
   ],
   "source": [
    "df.head()"
   ]
  },
  {
   "cell_type": "code",
   "execution_count": 6,
   "id": "08dd770f",
   "metadata": {},
   "outputs": [
    {
     "data": {
      "text/plain": [
       "(4232, 13)"
      ]
     },
     "execution_count": 6,
     "metadata": {},
     "output_type": "execute_result"
    }
   ],
   "source": [
    "df.shape"
   ]
  },
  {
   "cell_type": "code",
   "execution_count": 7,
   "id": "af932e5f",
   "metadata": {},
   "outputs": [],
   "source": [
    "# Remove 'Unnamed: 0' column\n",
    "df = df.drop(columns = {'Unnamed: 0'})"
   ]
  },
  {
   "cell_type": "code",
   "execution_count": 8,
   "id": "43e8bb6a",
   "metadata": {},
   "outputs": [
    {
     "data": {
      "text/plain": [
       "Incident ID          0\n",
       "Incident Date        0\n",
       "State                0\n",
       "City Or County       0\n",
       "Victims Injured      0\n",
       "Victims Killed       0\n",
       "Total Victims        0\n",
       "Suspects Injured     0\n",
       "Suspects Killed      0\n",
       "Suspects Arrested    0\n",
       "Total Suspects       0\n",
       "Suspect Category     0\n",
       "dtype: int64"
      ]
     },
     "execution_count": 8,
     "metadata": {},
     "output_type": "execute_result"
    }
   ],
   "source": [
    "# Check for missing values\n",
    "df.isnull().sum()\n",
    "# No missing values found"
   ]
  },
  {
   "cell_type": "code",
   "execution_count": 9,
   "id": "10e572c1",
   "metadata": {},
   "outputs": [
    {
     "data": {
      "text/plain": [
       "(4232,)"
      ]
     },
     "execution_count": 9,
     "metadata": {},
     "output_type": "execute_result"
    }
   ],
   "source": [
    "# Check for duplicates\n",
    "dups = df.duplicated()\n",
    "dups.shape\n",
    "# No duplicates found"
   ]
  },
  {
   "cell_type": "code",
   "execution_count": 10,
   "id": "1bb93d91",
   "metadata": {},
   "outputs": [
    {
     "data": {
      "text/plain": [
       "<AxesSubplot:xlabel='Total Victims', ylabel='Count'>"
      ]
     },
     "execution_count": 10,
     "metadata": {},
     "output_type": "execute_result"
    },
    {
     "data": {
      "image/png": "[encoded data removed]",
      "text/plain": [
       "<Figure size 640x480 with 1 Axes>"
      ]
     },
     "metadata": {},
     "output_type": "display_data"
    }
   ],
   "source": [
    "# Check for extreme values\n",
    "sns.histplot(df['Total Victims'], bins = 20, kde = True)"
   ]
  },
  {
   "cell_type": "code",
   "execution_count": 11,
   "id": "90cf7408",
   "metadata": {},
   "outputs": [
    {
     "data": {
      "text/html": [
       "<div>\n",
       "<style scoped>\n",
       "    .dataframe tbody tr th:only-of-type {\n",
       "        vertical-align: middle;\n",
       "    }\n",
       "\n",
       "    .dataframe tbody tr th {\n",
       "        vertical-align: top;\n",
       "    }\n",
       "\n",
       "    .dataframe thead th {\n",
       "        text-align: right;\n",
       "    }\n",
       "</style>\n",
       "<table border=\"1\" class=\"dataframe\">\n",
       "  <thead>\n",
       "    <tr style=\"text-align: right;\">\n",
       "      <th></th>\n",
       "      <th>Incident ID</th>\n",
       "      <th>Incident Date</th>\n",
       "      <th>State</th>\n",
       "      <th>City Or County</th>\n",
       "      <th>Victims Injured</th>\n",
       "      <th>Victims Killed</th>\n",
       "      <th>Total Victims</th>\n",
       "      <th>Suspects Injured</th>\n",
       "      <th>Suspects Killed</th>\n",
       "      <th>Suspects Arrested</th>\n",
       "      <th>Total Suspects</th>\n",
       "      <th>Suspect Category</th>\n",
       "    </tr>\n",
       "  </thead>\n",
       "  <tbody>\n",
       "    <tr>\n",
       "      <th>2965</th>\n",
       "      <td>946496</td>\n",
       "      <td>October 1, 2017</td>\n",
       "      <td>Nevada</td>\n",
       "      <td>Las Vegas</td>\n",
       "      <td>441</td>\n",
       "      <td>58</td>\n",
       "      <td>499</td>\n",
       "      <td>0</td>\n",
       "      <td>1</td>\n",
       "      <td>0</td>\n",
       "      <td>1</td>\n",
       "      <td>Single suspect</td>\n",
       "    </tr>\n",
       "    <tr>\n",
       "      <th>3487</th>\n",
       "      <td>577157</td>\n",
       "      <td>June 12, 2016</td>\n",
       "      <td>Florida</td>\n",
       "      <td>Orlando</td>\n",
       "      <td>53</td>\n",
       "      <td>49</td>\n",
       "      <td>102</td>\n",
       "      <td>0</td>\n",
       "      <td>1</td>\n",
       "      <td>0</td>\n",
       "      <td>1</td>\n",
       "      <td>Single suspect</td>\n",
       "    </tr>\n",
       "  </tbody>\n",
       "</table>\n",
       "</div>"
      ],
      "text/plain": [
       "      Incident ID    Incident Date    State City Or County  Victims Injured  \\\n",
       "2965       946496  October 1, 2017   Nevada      Las Vegas              441   \n",
       "3487       577157    June 12, 2016  Florida        Orlando               53   \n",
       "\n",
       "      Victims Killed  Total Victims  Suspects Injured  Suspects Killed  \\\n",
       "2965              58            499                 0                1   \n",
       "3487              49            102                 0                1   \n",
       "\n",
       "      Suspects Arrested  Total Suspects Suspect Category  \n",
       "2965                  0               1   Single suspect  \n",
       "3487                  0               1   Single suspect  "
      ]
     },
     "execution_count": 11,
     "metadata": {},
     "output_type": "execute_result"
    }
   ],
   "source": [
    "df[df['Total Victims'] > 100] # There are two extreme values, regression analysis will be ran with and without outliers"
   ]
  },
  {
   "cell_type": "code",
   "execution_count": 12,
   "id": "e74ca7e1",
   "metadata": {},
   "outputs": [
    {
     "name": "stdout",
     "output_type": "stream",
     "text": [
      "Mean: 5.135633270321361\n",
      "Median: 4.0\n",
      "Max: 499\n"
     ]
    }
   ],
   "source": [
    "# Check the mean, median, and max\n",
    "print('Mean:', df['Total Victims'].mean())\n",
    "print('Median:', df['Total Victims'].median())\n",
    "print('Max:', df['Total Victims'].max())"
   ]
  },
  {
   "cell_type": "markdown",
   "id": "32d2ea3b",
   "metadata": {},
   "source": [
    "## 3. Data Prepping\n",
    "\n",
    "My dataset will not show any meaningful analysis as it pertains to regression analysis. Regardless, I want to continue working on this dataset to show that I understand the steps required to conduct a regression analysis. For this task, I am utilizing the \"Victims Injured\" and \"Total Victims\" variables. These two variables do indeed have a relationship between each other, as evident by the fact that \"Total Victims\" is the sum of \"Victims Injured\" and \"Vctims Killed\". "
   ]
  },
  {
   "cell_type": "code",
   "execution_count": 13,
   "id": "1311769a",
   "metadata": {},
   "outputs": [
    {
     "data": {
      "image/png": "[encoded data removed]",
      "text/plain": [
       "<Figure size 640x480 with 1 Axes>"
      ]
     },
     "metadata": {},
     "output_type": "display_data"
    }
   ],
   "source": [
    "# Create a scatterplot for 'Injured Victims' and 'Total Victims' variables\n",
    "df.plot(x = 'Victims Injured', y = 'Total Victims', style = 'o')\n",
    "plt.title('Victims Injured vs Total Victims')\n",
    "plt.xlabel('Victims Injured')\n",
    "plt.ylabel('Total Victims')\n",
    "plt.show()"
   ]
  },
  {
   "cell_type": "markdown",
   "id": "24e0fda2",
   "metadata": {},
   "source": [
    "### Hypothesis: \"As the number of victims injured increases, so does the total victims.\""
   ]
  },
  {
   "cell_type": "code",
   "execution_count": 14,
   "id": "e9db74fe",
   "metadata": {},
   "outputs": [],
   "source": [
    "# Reshape the varaibles into NumPy arrays and place in separate objects\n",
    "X = df['Victims Injured'].values.reshape(-1, 1)\n",
    "y = df['Total Victims'].values.reshape(-1, 1)"
   ]
  },
  {
   "cell_type": "code",
   "execution_count": 15,
   "id": "97d0c124",
   "metadata": {},
   "outputs": [
    {
     "data": {
      "text/plain": [
       "array([[3],\n",
       "       [2],\n",
       "       [4],\n",
       "       ...,\n",
       "       [3],\n",
       "       [3],\n",
       "       [2]], dtype=int64)"
      ]
     },
     "execution_count": 15,
     "metadata": {},
     "output_type": "execute_result"
    }
   ],
   "source": [
    "X"
   ]
  },
  {
   "cell_type": "code",
   "execution_count": 16,
   "id": "ac6e7e5d",
   "metadata": {},
   "outputs": [
    {
     "data": {
      "text/plain": [
       "array([[4],\n",
       "       [4],\n",
       "       [4],\n",
       "       ...,\n",
       "       [4],\n",
       "       [4],\n",
       "       [4]], dtype=int64)"
      ]
     },
     "execution_count": 16,
     "metadata": {},
     "output_type": "execute_result"
    }
   ],
   "source": [
    "y"
   ]
  },
  {
   "cell_type": "code",
   "execution_count": 17,
   "id": "c9ea7b71",
   "metadata": {},
   "outputs": [],
   "source": [
    "# Splilt data into training and test sets\n",
    "X_train, X_test, y_train, y_test = train_test_split(X, y, test_size = 0.3, random_state = 0)"
   ]
  },
  {
   "cell_type": "markdown",
   "id": "aa6db52c",
   "metadata": {},
   "source": [
    "## 4. Regression Analysis"
   ]
  },
  {
   "cell_type": "code",
   "execution_count": 18,
   "id": "489617cb",
   "metadata": {},
   "outputs": [],
   "source": [
    "# Create regression object to fit onto training set\n",
    "regression = LinearRegression()"
   ]
  },
  {
   "cell_type": "code",
   "execution_count": 19,
   "id": "aff95a78",
   "metadata": {},
   "outputs": [
    {
     "data": {
      "text/plain": [
       "LinearRegression()"
      ]
     },
     "execution_count": 19,
     "metadata": {},
     "output_type": "execute_result"
    }
   ],
   "source": [
    "# Fit regression object onto training set\n",
    "regression.fit(X_train, y_train)"
   ]
  },
  {
   "cell_type": "code",
   "execution_count": 20,
   "id": "20bac7fc",
   "metadata": {},
   "outputs": [],
   "source": [
    "# Predict the values of y using X\n",
    "y_predicted = regression.predict(X_test)"
   ]
  },
  {
   "cell_type": "code",
   "execution_count": 21,
   "id": "53ccad57",
   "metadata": {},
   "outputs": [
    {
     "data": {
      "image/png": "[encoded data removed]",
      "text/plain": [
       "<Figure size 640x480 with 1 Axes>"
      ]
     },
     "metadata": {},
     "output_type": "display_data"
    }
   ],
   "source": [
    "# Create plot that shows regression line from the model of test set\n",
    "plot_test = plt\n",
    "plot_test.scatter(X_test, y_test, color = 'blue', s = 15)\n",
    "plot_test.plot(X_test, y_predicted, color = 'red', linewidth = 2)\n",
    "plot_test.title('Victims Injured vs Total Victims (Test set)')\n",
    "plot_test.xlabel('Victims Injured')\n",
    "plot_test.ylabel('Total Victims')\n",
    "plot_test.show()"
   ]
  },
  {
   "cell_type": "markdown",
   "id": "74b09fbd",
   "metadata": {},
   "source": [
    "### Interpretation of regression line\n",
    "\n",
    "The line shows a positive slope, meaning that as the numbers of victims injured increases, so does the total victims. Majority of the data points are close to the regression line, which support the hypothesis"
   ]
  },
  {
   "cell_type": "code",
   "execution_count": 22,
   "id": "9db504ce",
   "metadata": {},
   "outputs": [
    {
     "name": "stdout",
     "output_type": "stream",
     "text": [
      "Slope: [[1.11099957]]\n",
      "Mean Squared Error: 3.7958483366055265\n",
      "R2 score: 0.7004758140596685\n"
     ]
    }
   ],
   "source": [
    "# Show the model's summary statistics\n",
    "print('Slope:', regression.coef_)\n",
    "print('Mean Squared Error:', mean_squared_error(y_test, y_predicted))\n",
    "print('R2 score:', r2_score(y_test, y_predicted))"
   ]
  },
  {
   "cell_type": "code",
   "execution_count": 23,
   "id": "c0e901e4",
   "metadata": {},
   "outputs": [
    {
     "data": {
      "text/html": [
       "<div>\n",
       "<style scoped>\n",
       "    .dataframe tbody tr th:only-of-type {\n",
       "        vertical-align: middle;\n",
       "    }\n",
       "\n",
       "    .dataframe tbody tr th {\n",
       "        vertical-align: top;\n",
       "    }\n",
       "\n",
       "    .dataframe thead th {\n",
       "        text-align: right;\n",
       "    }\n",
       "</style>\n",
       "<table border=\"1\" class=\"dataframe\">\n",
       "  <thead>\n",
       "    <tr style=\"text-align: right;\">\n",
       "      <th></th>\n",
       "      <th>Actual</th>\n",
       "      <th>Predicted</th>\n",
       "    </tr>\n",
       "  </thead>\n",
       "  <tbody>\n",
       "    <tr>\n",
       "      <th>0</th>\n",
       "      <td>4</td>\n",
       "      <td>0.550431</td>\n",
       "    </tr>\n",
       "    <tr>\n",
       "      <th>1</th>\n",
       "      <td>4</td>\n",
       "      <td>3.883429</td>\n",
       "    </tr>\n",
       "    <tr>\n",
       "      <th>2</th>\n",
       "      <td>4</td>\n",
       "      <td>4.994429</td>\n",
       "    </tr>\n",
       "    <tr>\n",
       "      <th>3</th>\n",
       "      <td>4</td>\n",
       "      <td>3.883429</td>\n",
       "    </tr>\n",
       "    <tr>\n",
       "      <th>4</th>\n",
       "      <td>5</td>\n",
       "      <td>3.883429</td>\n",
       "    </tr>\n",
       "    <tr>\n",
       "      <th>5</th>\n",
       "      <td>8</td>\n",
       "      <td>2.772430</td>\n",
       "    </tr>\n",
       "    <tr>\n",
       "      <th>6</th>\n",
       "      <td>5</td>\n",
       "      <td>6.105428</td>\n",
       "    </tr>\n",
       "    <tr>\n",
       "      <th>7</th>\n",
       "      <td>12</td>\n",
       "      <td>10.549427</td>\n",
       "    </tr>\n",
       "    <tr>\n",
       "      <th>8</th>\n",
       "      <td>4</td>\n",
       "      <td>4.994429</td>\n",
       "    </tr>\n",
       "    <tr>\n",
       "      <th>9</th>\n",
       "      <td>4</td>\n",
       "      <td>3.883429</td>\n",
       "    </tr>\n",
       "    <tr>\n",
       "      <th>10</th>\n",
       "      <td>5</td>\n",
       "      <td>6.105428</td>\n",
       "    </tr>\n",
       "    <tr>\n",
       "      <th>11</th>\n",
       "      <td>6</td>\n",
       "      <td>6.105428</td>\n",
       "    </tr>\n",
       "    <tr>\n",
       "      <th>12</th>\n",
       "      <td>4</td>\n",
       "      <td>4.994429</td>\n",
       "    </tr>\n",
       "    <tr>\n",
       "      <th>13</th>\n",
       "      <td>5</td>\n",
       "      <td>2.772430</td>\n",
       "    </tr>\n",
       "    <tr>\n",
       "      <th>14</th>\n",
       "      <td>7</td>\n",
       "      <td>7.216428</td>\n",
       "    </tr>\n",
       "    <tr>\n",
       "      <th>15</th>\n",
       "      <td>6</td>\n",
       "      <td>4.994429</td>\n",
       "    </tr>\n",
       "    <tr>\n",
       "      <th>16</th>\n",
       "      <td>4</td>\n",
       "      <td>3.883429</td>\n",
       "    </tr>\n",
       "    <tr>\n",
       "      <th>17</th>\n",
       "      <td>5</td>\n",
       "      <td>6.105428</td>\n",
       "    </tr>\n",
       "    <tr>\n",
       "      <th>18</th>\n",
       "      <td>6</td>\n",
       "      <td>7.216428</td>\n",
       "    </tr>\n",
       "    <tr>\n",
       "      <th>19</th>\n",
       "      <td>4</td>\n",
       "      <td>2.772430</td>\n",
       "    </tr>\n",
       "  </tbody>\n",
       "</table>\n",
       "</div>"
      ],
      "text/plain": [
       "    Actual  Predicted\n",
       "0        4   0.550431\n",
       "1        4   3.883429\n",
       "2        4   4.994429\n",
       "3        4   3.883429\n",
       "4        5   3.883429\n",
       "5        8   2.772430\n",
       "6        5   6.105428\n",
       "7       12  10.549427\n",
       "8        4   4.994429\n",
       "9        4   3.883429\n",
       "10       5   6.105428\n",
       "11       6   6.105428\n",
       "12       4   4.994429\n",
       "13       5   2.772430\n",
       "14       7   7.216428\n",
       "15       6   4.994429\n",
       "16       4   3.883429\n",
       "17       5   6.105428\n",
       "18       6   7.216428\n",
       "19       4   2.772430"
      ]
     },
     "execution_count": 23,
     "metadata": {},
     "output_type": "execute_result"
    }
   ],
   "source": [
    "# Create a dataframe comparing the actual and predicted values\n",
    "data_compare = pd.DataFrame({'Actual': y_test.flatten(), 'Predicted': y_predicted.flatten()})\n",
    "data_compare.head(20)"
   ]
  },
  {
   "cell_type": "markdown",
   "id": "a8e30c32",
   "metadata": {},
   "source": [
    "### Model's Performance\n",
    "\n",
    "The model's slope (1.11) indicate a positive relationship, which indicates that as the number of victims injured increases, so too does the total victims. \n",
    "\n",
    "The model's root mean squared error (MSE) is small (3.80), which indicates that the regression line passes fairly close to the oservations, making it a good fit. \n",
    "\n",
    "The model's r-squared value shows a 0.70 variance of the data, which means that the model is a 70% fit. \n",
    "\n",
    "Looking at the values side by side, show that there is a difference in the actual and predicted values. Therefore the model does not provide a good prediction of the values."
   ]
  },
  {
   "cell_type": "markdown",
   "id": "a64694e6",
   "metadata": {},
   "source": [
    "## Regression Analysis without Extreme Values"
   ]
  },
  {
   "cell_type": "code",
   "execution_count": 24,
   "id": "bca11fe8",
   "metadata": {},
   "outputs": [],
   "source": [
    "# Clean extreme values from 'Total Victims'\n",
    "df_2 = df[df['Total Victims'] < 100]"
   ]
  },
  {
   "cell_type": "code",
   "execution_count": 25,
   "id": "fc7d5bd5",
   "metadata": {},
   "outputs": [
    {
     "data": {
      "image/png": "[encoded data removed]",
      "text/plain": [
       "<Figure size 640x480 with 1 Axes>"
      ]
     },
     "metadata": {},
     "output_type": "display_data"
    }
   ],
   "source": [
    "# Scatter plot without outliers\n",
    "df_2.plot(x = 'Victims Injured', y = 'Total Victims', style = 'o')\n",
    "plt.title('Victims Injured vs Total Victims')\n",
    "plt.xlabel('Victims Injured')\n",
    "plt.ylabel('Total Victims')\n",
    "plt.show()"
   ]
  },
  {
   "cell_type": "code",
   "execution_count": 26,
   "id": "593fd178",
   "metadata": {},
   "outputs": [],
   "source": [
    "# Reshape variables\n",
    "X_2 = df_2['Victims Injured'].values.reshape(-1, 1)\n",
    "y_2 = df_2['Total Victims'].values.reshape(-1, 1)"
   ]
  },
  {
   "cell_type": "code",
   "execution_count": 27,
   "id": "5f91ccaa",
   "metadata": {},
   "outputs": [],
   "source": [
    "X_train_2, X_test_2, y_train_2, y_test_2 = train_test_split(X_2, y_2, test_size = 0.3, random_state = 0)"
   ]
  },
  {
   "cell_type": "code",
   "execution_count": 28,
   "id": "0f558298",
   "metadata": {},
   "outputs": [
    {
     "data": {
      "text/plain": [
       "LinearRegression()"
      ]
     },
     "execution_count": 28,
     "metadata": {},
     "output_type": "execute_result"
    }
   ],
   "source": [
    "# Run and fit the regression\n",
    "regression = LinearRegression()\n",
    "regression.fit(X_train_2, y_train_2)"
   ]
  },
  {
   "cell_type": "code",
   "execution_count": 29,
   "id": "ab54601c",
   "metadata": {},
   "outputs": [],
   "source": [
    "# Predicting values\n",
    "y_predicted_2 = regression.predict(X_test_2)"
   ]
  },
  {
   "cell_type": "code",
   "execution_count": 30,
   "id": "7d772723",
   "metadata": {},
   "outputs": [
    {
     "data": {
      "image/png": "[encoded data removed]",
      "text/plain": [
       "<Figure size 640x480 with 1 Axes>"
      ]
     },
     "metadata": {},
     "output_type": "display_data"
    }
   ],
   "source": [
    "# Visualizing test set results\n",
    "plot_test = plt\n",
    "plot_test.scatter(X_test_2, y_test_2, color = 'green', s = 15)\n",
    "plot_test.plot(X_test_2, y_predicted_2, color = 'red', linewidth = 3)\n",
    "plot_test.title('Victims Injured vs Total Victims (Test set)')\n",
    "plot_test.xlabel('Victims Inured')\n",
    "plot_test.ylabel('Total Victims')\n",
    "plot_test.show()"
   ]
  },
  {
   "cell_type": "code",
   "execution_count": 31,
   "id": "139404b9",
   "metadata": {},
   "outputs": [
    {
     "name": "stdout",
     "output_type": "stream",
     "text": [
      "Slope: [[0.88326824]]\n",
      "Mean Squared Error: 1.8933531486506865\n",
      "R2 score: 0.5855051185029662\n"
     ]
    }
   ],
   "source": [
    "# Show the model's summary statistics\n",
    "print('Slope:', regression.coef_)\n",
    "print('Mean Squared Error:', mean_squared_error(y_test_2, y_predicted_2))\n",
    "print('R2 score:', r2_score(y_test_2, y_predicted_2))"
   ]
  },
  {
   "cell_type": "code",
   "execution_count": 32,
   "id": "ba350b07",
   "metadata": {},
   "outputs": [
    {
     "data": {
      "text/html": [
       "<div>\n",
       "<style scoped>\n",
       "    .dataframe tbody tr th:only-of-type {\n",
       "        vertical-align: middle;\n",
       "    }\n",
       "\n",
       "    .dataframe tbody tr th {\n",
       "        vertical-align: top;\n",
       "    }\n",
       "\n",
       "    .dataframe thead th {\n",
       "        text-align: right;\n",
       "    }\n",
       "</style>\n",
       "<table border=\"1\" class=\"dataframe\">\n",
       "  <thead>\n",
       "    <tr style=\"text-align: right;\">\n",
       "      <th></th>\n",
       "      <th>Actual</th>\n",
       "      <th>Predicted</th>\n",
       "    </tr>\n",
       "  </thead>\n",
       "  <tbody>\n",
       "    <tr>\n",
       "      <th>0</th>\n",
       "      <td>4</td>\n",
       "      <td>0.550431</td>\n",
       "    </tr>\n",
       "    <tr>\n",
       "      <th>1</th>\n",
       "      <td>4</td>\n",
       "      <td>3.883429</td>\n",
       "    </tr>\n",
       "    <tr>\n",
       "      <th>2</th>\n",
       "      <td>4</td>\n",
       "      <td>4.994429</td>\n",
       "    </tr>\n",
       "    <tr>\n",
       "      <th>3</th>\n",
       "      <td>4</td>\n",
       "      <td>3.883429</td>\n",
       "    </tr>\n",
       "    <tr>\n",
       "      <th>4</th>\n",
       "      <td>5</td>\n",
       "      <td>3.883429</td>\n",
       "    </tr>\n",
       "    <tr>\n",
       "      <th>5</th>\n",
       "      <td>8</td>\n",
       "      <td>2.772430</td>\n",
       "    </tr>\n",
       "    <tr>\n",
       "      <th>6</th>\n",
       "      <td>5</td>\n",
       "      <td>6.105428</td>\n",
       "    </tr>\n",
       "    <tr>\n",
       "      <th>7</th>\n",
       "      <td>12</td>\n",
       "      <td>10.549427</td>\n",
       "    </tr>\n",
       "    <tr>\n",
       "      <th>8</th>\n",
       "      <td>4</td>\n",
       "      <td>4.994429</td>\n",
       "    </tr>\n",
       "    <tr>\n",
       "      <th>9</th>\n",
       "      <td>4</td>\n",
       "      <td>3.883429</td>\n",
       "    </tr>\n",
       "    <tr>\n",
       "      <th>10</th>\n",
       "      <td>5</td>\n",
       "      <td>6.105428</td>\n",
       "    </tr>\n",
       "    <tr>\n",
       "      <th>11</th>\n",
       "      <td>6</td>\n",
       "      <td>6.105428</td>\n",
       "    </tr>\n",
       "    <tr>\n",
       "      <th>12</th>\n",
       "      <td>4</td>\n",
       "      <td>4.994429</td>\n",
       "    </tr>\n",
       "    <tr>\n",
       "      <th>13</th>\n",
       "      <td>5</td>\n",
       "      <td>2.772430</td>\n",
       "    </tr>\n",
       "    <tr>\n",
       "      <th>14</th>\n",
       "      <td>7</td>\n",
       "      <td>7.216428</td>\n",
       "    </tr>\n",
       "    <tr>\n",
       "      <th>15</th>\n",
       "      <td>6</td>\n",
       "      <td>4.994429</td>\n",
       "    </tr>\n",
       "    <tr>\n",
       "      <th>16</th>\n",
       "      <td>4</td>\n",
       "      <td>3.883429</td>\n",
       "    </tr>\n",
       "    <tr>\n",
       "      <th>17</th>\n",
       "      <td>5</td>\n",
       "      <td>6.105428</td>\n",
       "    </tr>\n",
       "    <tr>\n",
       "      <th>18</th>\n",
       "      <td>6</td>\n",
       "      <td>7.216428</td>\n",
       "    </tr>\n",
       "    <tr>\n",
       "      <th>19</th>\n",
       "      <td>4</td>\n",
       "      <td>2.772430</td>\n",
       "    </tr>\n",
       "  </tbody>\n",
       "</table>\n",
       "</div>"
      ],
      "text/plain": [
       "    Actual  Predicted\n",
       "0        4   0.550431\n",
       "1        4   3.883429\n",
       "2        4   4.994429\n",
       "3        4   3.883429\n",
       "4        5   3.883429\n",
       "5        8   2.772430\n",
       "6        5   6.105428\n",
       "7       12  10.549427\n",
       "8        4   4.994429\n",
       "9        4   3.883429\n",
       "10       5   6.105428\n",
       "11       6   6.105428\n",
       "12       4   4.994429\n",
       "13       5   2.772430\n",
       "14       7   7.216428\n",
       "15       6   4.994429\n",
       "16       4   3.883429\n",
       "17       5   6.105428\n",
       "18       6   7.216428\n",
       "19       4   2.772430"
      ]
     },
     "execution_count": 32,
     "metadata": {},
     "output_type": "execute_result"
    }
   ],
   "source": [
    "# Create a dataframe comparing the actual and predicted values\n",
    "data_compare_2 = pd.DataFrame({'Actual': y_test_2.flatten(), 'Predicted': y_predicted_2.flatten()})\n",
    "data_compare.head(20)"
   ]
  },
  {
   "cell_type": "markdown",
   "id": "06e6c606",
   "metadata": {},
   "source": [
    "### Model's Performance\n",
    "\n",
    "The model's slope (0.88) indicate a positive relationship, which indicates that as the number of victims injured increases, so too does the total victims. \n",
    "\n",
    "The model's root mean squared error (MSE) is small (1.89), which indicates that the regression line passes fairly close to the oservations, making it a good fit. \n",
    "\n",
    "The model's r-squared value shows a 0.59 variance of the data, which means that the model is a 59% fit. \n",
    "\n",
    "Looking at the values side by side, show that there is a difference in the actual and predicted values. Therefore the model does not provide a good prediction of the values."
   ]
  },
  {
   "cell_type": "markdown",
   "id": "60861e0b",
   "metadata": {},
   "source": [
    "## 5. Conclusion\n",
    "\n",
    "The model's visualization and summary statistics show that it is a good model at predicting the values, but looking at the predicted and actual values show that it isn't. This is to be expected, as the dataset that I'm working with is not a good dataset to be used for regression analysis. Mainly in part because I am utilizing variables that are in close relationship with each other. Therefore my dataset has selection bias. "
   ]
  },
  {
   "cell_type": "code",
   "execution_count": null,
   "id": "3867592d",
   "metadata": {},
   "outputs": [],
   "source": []
  }
 ],
 "metadata": {
  "kernelspec": {
   "display_name": "Python 3 (ipykernel)",
   "language": "python",
   "name": "python3"
  },
  "language_info": {
   "codemirror_mode": {
    "name": "ipython",
    "version": 3
   },
   "file_extension": ".py",
   "mimetype": "text/x-python",
   "name": "python",
   "nbconvert_exporter": "python",
   "pygments_lexer": "ipython3",
   "version": "3.9.13"
  }
 },
 "nbformat": 4,
 "nbformat_minor": 5
}
